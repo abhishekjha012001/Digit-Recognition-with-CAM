{
  "nbformat": 4,
  "nbformat_minor": 0,
  "metadata": {
    "colab": {
      "name": " Digit Recogniser.ipynb",
      "provenance": [],
      "collapsed_sections": []
    },
    "kernelspec": {
      "name": "python3",
      "display_name": "Python 3"
    },
    "language_info": {
      "name": "python"
    },
    "accelerator": "GPU"
  },
  "cells": [
    {
      "cell_type": "markdown",
      "metadata": {
        "id": "83l47nQvVVu-"
      },
      "source": [
        "Importing required library"
      ]
    },
    {
      "cell_type": "code",
      "metadata": {
        "id": "hpgmOELag2BW"
      },
      "source": [
        "import numpy as np\n",
        "import tensorflow as tf\n",
        "import matplotlib.pyplot as plt"
      ],
      "execution_count": 1,
      "outputs": []
    },
    {
      "cell_type": "code",
      "metadata": {
        "id": "oQ9Gk166ikn6",
        "colab": {
          "base_uri": "https://localhost:8080/",
          "height": 0
        },
        "outputId": "3b4816c5-3820-4bfb-f944-f32077046776"
      },
      "source": [
        "(x_train, y_train), (x_test, y_test) = tf.keras.datasets.mnist.load_data(path = \"mnist.npz\")"
      ],
      "execution_count": 2,
      "outputs": [
        {
          "output_type": "stream",
          "text": [
            "Downloading data from https://storage.googleapis.com/tensorflow/tf-keras-datasets/mnist.npz\n",
            "11493376/11490434 [==============================] - 0s 0us/step\n"
          ],
          "name": "stdout"
        }
      ]
    },
    {
      "cell_type": "code",
      "metadata": {
        "id": "mDpj2vZjnN5D"
      },
      "source": [
        "from keras.preprocessing import image"
      ],
      "execution_count": 3,
      "outputs": []
    },
    {
      "cell_type": "markdown",
      "metadata": {
        "id": "rYEOTyZbt4DY"
      },
      "source": [
        "Preprocessing the Images"
      ]
    },
    {
      "cell_type": "code",
      "metadata": {
        "id": "rVv1U2-ut8BD",
        "colab": {
          "base_uri": "https://localhost:8080/",
          "height": 0
        },
        "outputId": "bed8b3ad-f947-4078-91b0-eb4bc96c074b"
      },
      "source": [
        "x_train = x_train/255\n",
        "x_test = x_test/255\n",
        "x_train = np.expand_dims(x_train, -1)\n",
        "x_test = np.expand_dims(x_test, -1)\n",
        "print(x_train.shape)\n",
        "\n",
        "y_train = tf.keras.utils.to_categorical(y_train, 10)\n",
        "y_test = tf.keras.utils.to_categorical(y_test, 10)\n",
        "print(y_train.shape)"
      ],
      "execution_count": 4,
      "outputs": [
        {
          "output_type": "stream",
          "text": [
            "(60000, 28, 28, 1)\n",
            "(60000, 10)\n"
          ],
          "name": "stdout"
        }
      ]
    },
    {
      "cell_type": "markdown",
      "metadata": {
        "id": "JdkzZzHjtpTB"
      },
      "source": [
        "Designing the CNN model"
      ]
    },
    {
      "cell_type": "code",
      "metadata": {
        "id": "E9ear1KlqiOQ"
      },
      "source": [
        "model = tf.keras.Sequential()"
      ],
      "execution_count": 5,
      "outputs": []
    },
    {
      "cell_type": "code",
      "metadata": {
        "id": "wF9H7bynqlEu"
      },
      "source": [
        "model.add(tf.keras.layers.Conv2D(filters = 64, kernel_size = 3, activation = \"relu\", input_shape = (28, 28, 1), padding = \"same\"))"
      ],
      "execution_count": 6,
      "outputs": []
    },
    {
      "cell_type": "code",
      "metadata": {
        "id": "JJU6-jczAPJI"
      },
      "source": [
        "model.add(tf.keras.layers.Conv2D(filters = 128, kernel_size = 3, activation = \"relu\", padding = \"same\"))"
      ],
      "execution_count": 7,
      "outputs": []
    },
    {
      "cell_type": "code",
      "metadata": {
        "id": "yh-drXp_AS4Y"
      },
      "source": [
        "model.add(tf.keras.layers.Conv2D(filters = 256, kernel_size = 3, activation = \"relu\", padding = \"same\"))"
      ],
      "execution_count": 8,
      "outputs": []
    },
    {
      "cell_type": "code",
      "metadata": {
        "id": "jOw_RwQSdLJa"
      },
      "source": [
        "model.add(tf.keras.layers.Conv2D(filters = 512, kernel_size = 3, activation = \"relu\", padding = \"same\"))"
      ],
      "execution_count": 9,
      "outputs": []
    },
    {
      "cell_type": "code",
      "metadata": {
        "id": "0YYDcrkMAWSY"
      },
      "source": [
        "model.add(tf.keras.layers.GlobalAveragePooling2D())"
      ],
      "execution_count": 10,
      "outputs": []
    },
    {
      "cell_type": "code",
      "metadata": {
        "id": "QiPMFgULs3KM"
      },
      "source": [
        "model.add(tf.keras.layers.Dense(units = 10, activation = \"softmax\"))"
      ],
      "execution_count": 11,
      "outputs": []
    },
    {
      "cell_type": "code",
      "metadata": {
        "colab": {
          "base_uri": "https://localhost:8080/",
          "height": 0
        },
        "id": "x2h9JLscuTN1",
        "outputId": "91431a22-2442-4a06-c459-d83dfbdcb08b"
      },
      "source": [
        "model.summary()"
      ],
      "execution_count": 12,
      "outputs": [
        {
          "output_type": "stream",
          "text": [
            "Model: \"sequential\"\n",
            "_________________________________________________________________\n",
            "Layer (type)                 Output Shape              Param #   \n",
            "=================================================================\n",
            "conv2d (Conv2D)              (None, 28, 28, 64)        640       \n",
            "_________________________________________________________________\n",
            "conv2d_1 (Conv2D)            (None, 28, 28, 128)       73856     \n",
            "_________________________________________________________________\n",
            "conv2d_2 (Conv2D)            (None, 28, 28, 256)       295168    \n",
            "_________________________________________________________________\n",
            "conv2d_3 (Conv2D)            (None, 28, 28, 512)       1180160   \n",
            "_________________________________________________________________\n",
            "global_average_pooling2d (Gl (None, 512)               0         \n",
            "_________________________________________________________________\n",
            "dense (Dense)                (None, 10)                5130      \n",
            "=================================================================\n",
            "Total params: 1,554,954\n",
            "Trainable params: 1,554,954\n",
            "Non-trainable params: 0\n",
            "_________________________________________________________________\n"
          ],
          "name": "stdout"
        }
      ]
    },
    {
      "cell_type": "code",
      "metadata": {
        "colab": {
          "base_uri": "https://localhost:8080/",
          "height": 661
        },
        "id": "LzqdHGQhEGyQ",
        "outputId": "48b4b17a-f843-4f14-f898-24194b289155"
      },
      "source": [
        "from keras.utils import plot_model\n",
        "plot_model(model)"
      ],
      "execution_count": 13,
      "outputs": [
        {
          "output_type": "execute_result",
          "data": {
            "image/png": "[encoded data removed]",
            "text/plain": [
              "<IPython.core.display.Image object>"
            ]
          },
          "metadata": {
            "tags": []
          },
          "execution_count": 13
        }
      ]
    },
    {
      "cell_type": "markdown",
      "metadata": {
        "id": "Wel3NJeHtvCw"
      },
      "source": [
        "Compiling the model"
      ]
    },
    {
      "cell_type": "code",
      "metadata": {
        "id": "GsLl7k8btktN"
      },
      "source": [
        "model.compile(optimizer = \"adam\", loss = \"categorical_crossentropy\", metrics = [\"accuracy\"])"
      ],
      "execution_count": 14,
      "outputs": []
    },
    {
      "cell_type": "markdown",
      "metadata": {
        "id": "u4ZheiOptzY2"
      },
      "source": [
        "Training and validation"
      ]
    },
    {
      "cell_type": "code",
      "metadata": {
        "colab": {
          "base_uri": "https://localhost:8080/",
          "height": 0
        },
        "id": "tpokXtIWt1sg",
        "outputId": "38c9529f-a9ab-441b-cf0b-5c00525161f1"
      },
      "source": [
        "model.fit(x_train, y_train, batch_size = 32, epochs = 15, validation_split = 0.2)"
      ],
      "execution_count": 15,
      "outputs": [
        {
          "output_type": "stream",
          "text": [
            "Epoch 1/15\n",
            "1500/1500 [==============================] - 77s 29ms/step - loss: 1.0518 - accuracy: 0.6211 - val_loss: 0.2484 - val_accuracy: 0.9217\n",
            "Epoch 2/15\n",
            "1500/1500 [==============================] - 44s 30ms/step - loss: 0.1679 - accuracy: 0.9507 - val_loss: 0.1283 - val_accuracy: 0.9618\n",
            "Epoch 3/15\n",
            "1500/1500 [==============================] - 44s 30ms/step - loss: 0.1080 - accuracy: 0.9666 - val_loss: 0.0708 - val_accuracy: 0.9793\n",
            "Epoch 4/15\n",
            "1500/1500 [==============================] - 44s 30ms/step - loss: 0.0862 - accuracy: 0.9742 - val_loss: 0.0618 - val_accuracy: 0.9809\n",
            "Epoch 5/15\n",
            "1500/1500 [==============================] - 44s 29ms/step - loss: 0.0659 - accuracy: 0.9798 - val_loss: 0.0598 - val_accuracy: 0.9819\n",
            "Epoch 6/15\n",
            "1500/1500 [==============================] - 44s 29ms/step - loss: 0.0561 - accuracy: 0.9835 - val_loss: 0.0782 - val_accuracy: 0.9755\n",
            "Epoch 7/15\n",
            "1500/1500 [==============================] - 44s 29ms/step - loss: 0.0481 - accuracy: 0.9850 - val_loss: 0.0539 - val_accuracy: 0.9833\n",
            "Epoch 8/15\n",
            "1500/1500 [==============================] - 44s 29ms/step - loss: 0.0424 - accuracy: 0.9869 - val_loss: 0.0435 - val_accuracy: 0.9875\n",
            "Epoch 9/15\n",
            "1500/1500 [==============================] - 44s 29ms/step - loss: 0.0369 - accuracy: 0.9882 - val_loss: 0.0375 - val_accuracy: 0.9887\n",
            "Epoch 10/15\n",
            "1500/1500 [==============================] - 44s 29ms/step - loss: 0.0324 - accuracy: 0.9905 - val_loss: 0.0425 - val_accuracy: 0.9872\n",
            "Epoch 11/15\n",
            "1500/1500 [==============================] - 44s 29ms/step - loss: 0.0282 - accuracy: 0.9912 - val_loss: 0.0375 - val_accuracy: 0.9889\n",
            "Epoch 12/15\n",
            "1500/1500 [==============================] - 44s 29ms/step - loss: 0.0269 - accuracy: 0.9912 - val_loss: 0.0429 - val_accuracy: 0.9875\n",
            "Epoch 13/15\n",
            "1500/1500 [==============================] - 44s 29ms/step - loss: 0.0223 - accuracy: 0.9926 - val_loss: 0.0334 - val_accuracy: 0.9907\n",
            "Epoch 14/15\n",
            "1500/1500 [==============================] - 44s 29ms/step - loss: 0.0218 - accuracy: 0.9932 - val_loss: 0.0483 - val_accuracy: 0.9858\n",
            "Epoch 15/15\n",
            "1500/1500 [==============================] - 44s 29ms/step - loss: 0.0178 - accuracy: 0.9939 - val_loss: 0.0327 - val_accuracy: 0.9918\n"
          ],
          "name": "stdout"
        },
        {
          "output_type": "execute_result",
          "data": {
            "text/plain": [
              "<tensorflow.python.keras.callbacks.History at 0x7f456059a910>"
            ]
          },
          "metadata": {
            "tags": []
          },
          "execution_count": 15
        }
      ]
    },
    {
      "cell_type": "code",
      "metadata": {
        "colab": {
          "base_uri": "https://localhost:8080/",
          "height": 0
        },
        "id": "AE7V3uVhdaVh",
        "outputId": "440e546b-c346-4620-d7d0-3779fece910a"
      },
      "source": [
        "# Validation accuracy\n",
        "score = model.evaluate(x_test, y_test, verbose = 1)\n",
        "print(score)"
      ],
      "execution_count": 16,
      "outputs": [
        {
          "output_type": "stream",
          "text": [
            "313/313 [==============================] - 4s 11ms/step - loss: 0.0301 - accuracy: 0.9912\n",
            "[0.030089305713772774, 0.9911999702453613]\n"
          ],
          "name": "stdout"
        }
      ]
    },
    {
      "cell_type": "markdown",
      "metadata": {
        "id": "KIxSwnQXB8k5"
      },
      "source": [
        "Implementing CAM"
      ]
    },
    {
      "cell_type": "code",
      "metadata": {
        "id": "lRdAKWQpDVzE"
      },
      "source": [
        "# Designing a model to get feature map and the results\n",
        "from keras.models import Model\n",
        "cam = Model(inputs = model.input, outputs = (model.layers[-3].output, model.layers[-1].output))"
      ],
      "execution_count": 17,
      "outputs": []
    },
    {
      "cell_type": "code",
      "metadata": {
        "id": "ZSuYAWaVHOAo",
        "colab": {
          "base_uri": "https://localhost:8080/",
          "height": 0
        },
        "outputId": "d84d598c-eade-4d17-e17a-72147fb30c6b"
      },
      "source": [
        "cam.summary()"
      ],
      "execution_count": 18,
      "outputs": [
        {
          "output_type": "stream",
          "text": [
            "Model: \"model\"\n",
            "_________________________________________________________________\n",
            "Layer (type)                 Output Shape              Param #   \n",
            "=================================================================\n",
            "conv2d_input (InputLayer)    [(None, 28, 28, 1)]       0         \n",
            "_________________________________________________________________\n",
            "conv2d (Conv2D)              (None, 28, 28, 64)        640       \n",
            "_________________________________________________________________\n",
            "conv2d_1 (Conv2D)            (None, 28, 28, 128)       73856     \n",
            "_________________________________________________________________\n",
            "conv2d_2 (Conv2D)            (None, 28, 28, 256)       295168    \n",
            "_________________________________________________________________\n",
            "conv2d_3 (Conv2D)            (None, 28, 28, 512)       1180160   \n",
            "_________________________________________________________________\n",
            "global_average_pooling2d (Gl (None, 512)               0         \n",
            "_________________________________________________________________\n",
            "dense (Dense)                (None, 10)                5130      \n",
            "=================================================================\n",
            "Total params: 1,554,954\n",
            "Trainable params: 1,554,954\n",
            "Non-trainable params: 0\n",
            "_________________________________________________________________\n"
          ],
          "name": "stdout"
        }
      ]
    },
    {
      "cell_type": "code",
      "metadata": {
        "id": "93LYVpKHHRz4",
        "colab": {
          "base_uri": "https://localhost:8080/",
          "height": 661
        },
        "outputId": "c974d6cd-0abc-4b6b-cf27-9014cf456d7d"
      },
      "source": [
        "plot_model(cam)"
      ],
      "execution_count": 19,
      "outputs": [
        {
          "output_type": "execute_result",
          "data": {
            "image/png": "[encoded data removed]",
            "text/plain": [
              "<IPython.core.display.Image object>"
            ]
          },
          "metadata": {
            "tags": []
          },
          "execution_count": 19
        }
      ]
    },
    {
      "cell_type": "code",
      "metadata": {
        "colab": {
          "base_uri": "https://localhost:8080/",
          "height": 0
        },
        "id": "vShJPl0h1Z3d",
        "outputId": "8ee40409-cfb9-43f0-bbda-dd154d898e1e"
      },
      "source": [
        "# Implemeting relu\n",
        "def relu(x):\n",
        "  return x*(x > 0)\n",
        "\n",
        "tmp = np.array([-1, 2])\n",
        "print(relu(tmp))"
      ],
      "execution_count": 24,
      "outputs": [
        {
          "output_type": "stream",
          "text": [
            "[0 2]\n"
          ],
          "name": "stdout"
        }
      ]
    },
    {
      "cell_type": "code",
      "metadata": {
        "id": "i8cLy05os901"
      },
      "source": [
        "# Getting weight of last layer\n",
        "wt = model.layers[-1].get_weights()[0]"
      ],
      "execution_count": 25,
      "outputs": []
    },
    {
      "cell_type": "code",
      "metadata": {
        "id": "OIWI6o36iaDN"
      },
      "source": [
        "# Getting the prediction and feature map of position idx\n",
        "idx = 2\n",
        "\n",
        "img = x_test[idx]\n",
        "img = np.expand_dims(img, axis = 0)\n",
        "\n",
        "fm, res = cam.predict(img)\n",
        "\n",
        "pred = np.argmax(res, axis = 1)"
      ],
      "execution_count": 32,
      "outputs": []
    },
    {
      "cell_type": "code",
      "metadata": {
        "id": "8gxgb7E_B7zR",
        "colab": {
          "base_uri": "https://localhost:8080/",
          "height": 0
        },
        "outputId": "c75a996b-a6d1-4e1a-a2c9-c6ed98fb1fed"
      },
      "source": [
        "# Getting the weight of last layer for current prediction\n",
        "idx_wt = wt[:, pred]\n",
        "\n",
        "cam_img = np.dot(fm, idx_wt)\n",
        "cam_img = relu(cam_img)\n",
        "print(cam_img.shape)"
      ],
      "execution_count": 33,
      "outputs": [
        {
          "output_type": "stream",
          "text": [
            "(1, 28, 28, 1)\n"
          ],
          "name": "stdout"
        }
      ]
    },
    {
      "cell_type": "code",
      "metadata": {
        "id": "GI_drumrR5ay",
        "colab": {
          "base_uri": "https://localhost:8080/",
          "height": 166
        },
        "outputId": "6c5f0d7a-30b2-41b9-dc36-06fe8dfd6584"
      },
      "source": [
        "# Plotting the images\n",
        "img = np.reshape(img, (28, 28))\n",
        "cam_img = np.reshape(cam_img, (28, 28))\n",
        "\n",
        "plt.figure(facecolor = \"white\")\n",
        "plt.subplot(1, 3, 1)\n",
        "plt.imshow(img, cmap = \"gray\")\n",
        "\n",
        "plt.subplot(1, 3, 2)\n",
        "plt.imshow(cam_img)\n",
        "\n",
        "plt.subplot(1, 3, 3)\n",
        "plt.imshow(img)\n",
        "plt.imshow(cam_img, cmap = \"jet\", alpha = 0.5)\n",
        "\n",
        "print(\"Prediction : \", pred)"
      ],
      "execution_count": 39,
      "outputs": [
        {
          "output_type": "stream",
          "text": [
            "Prediction :  [1]\n"
          ],
          "name": "stdout"
        },
        {
          "output_type": "display_data",
          "data": {
            "image/png": "[encoded data removed]",
            "text/plain": [
              "<Figure size 432x288 with 3 Axes>"
            ]
          },
          "metadata": {
            "tags": []
          }
        }
      ]
    },
    {
      "cell_type": "code",
      "metadata": {
        "id": "chSJCBWt11b3"
      },
      "source": [
        ""
      ],
      "execution_count": 22,
      "outputs": []
    }
  ]
}